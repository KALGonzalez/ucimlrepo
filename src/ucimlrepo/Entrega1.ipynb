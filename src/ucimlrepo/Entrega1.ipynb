{
 "cells": [
  {
   "cell_type": "code",
   "execution_count": 1,
   "metadata": {},
   "outputs": [
    {
     "name": "stdout",
     "output_type": "stream",
     "text": [
      "Requirement already satisfied: ucimlrepo in /workspace/.pyenv_mirror/user/current/lib/python3.12/site-packages (0.0.7)\n",
      "Requirement already satisfied: pandas>=1.0.0 in /workspace/.pyenv_mirror/user/current/lib/python3.12/site-packages (from ucimlrepo) (2.2.3)\n",
      "Requirement already satisfied: certifi>=2020.12.5 in /home/gitpod/.pyenv/versions/3.12.7/lib/python3.12/site-packages (from ucimlrepo) (2024.8.30)\n",
      "Requirement already satisfied: numpy>=1.26.0 in /workspace/.pyenv_mirror/user/current/lib/python3.12/site-packages (from pandas>=1.0.0->ucimlrepo) (2.2.1)\n",
      "Requirement already satisfied: python-dateutil>=2.8.2 in /home/gitpod/.pyenv/versions/3.12.7/lib/python3.12/site-packages (from pandas>=1.0.0->ucimlrepo) (2.9.0.post0)\n",
      "Requirement already satisfied: pytz>=2020.1 in /workspace/.pyenv_mirror/user/current/lib/python3.12/site-packages (from pandas>=1.0.0->ucimlrepo) (2024.2)\n",
      "Requirement already satisfied: tzdata>=2022.7 in /workspace/.pyenv_mirror/user/current/lib/python3.12/site-packages (from pandas>=1.0.0->ucimlrepo) (2024.2)\n",
      "Requirement already satisfied: six>=1.5 in /home/gitpod/.pyenv/versions/3.12.7/lib/python3.12/site-packages (from python-dateutil>=2.8.2->pandas>=1.0.0->ucimlrepo) (1.16.0)\n",
      "\n",
      "\u001b[1m[\u001b[0m\u001b[34;49mnotice\u001b[0m\u001b[1;39;49m]\u001b[0m\u001b[39;49m A new release of pip is available: \u001b[0m\u001b[31;49m24.2\u001b[0m\u001b[39;49m -> \u001b[0m\u001b[32;49m24.3.1\u001b[0m\n",
      "\u001b[1m[\u001b[0m\u001b[34;49mnotice\u001b[0m\u001b[1;39;49m]\u001b[0m\u001b[39;49m To update, run: \u001b[0m\u001b[32;49mpip install --upgrade pip\u001b[0m\n",
      "Note: you may need to restart the kernel to use updated packages.\n"
     ]
    }
   ],
   "source": [
    "pip install ucimlrepo"
   ]
  },
  {
   "cell_type": "code",
   "execution_count": 2,
   "metadata": {},
   "outputs": [
    {
     "name": "stdout",
     "output_type": "stream",
     "text": [
      "{'uci_id': 222, 'name': 'Bank Marketing', 'repository_url': 'https://archive.ics.uci.edu/dataset/222/bank+marketing', 'data_url': 'https://archive.ics.uci.edu/static/public/222/data.csv', 'abstract': 'The data is related with direct marketing campaigns (phone calls) of a Portuguese banking institution. The classification goal is to predict if the client will subscribe a term deposit (variable y).', 'area': 'Business', 'tasks': ['Classification'], 'characteristics': ['Multivariate'], 'num_instances': 45211, 'num_features': 16, 'feature_types': ['Categorical', 'Integer'], 'demographics': ['Age', 'Occupation', 'Marital Status', 'Education Level'], 'target_col': ['y'], 'index_col': None, 'has_missing_values': 'yes', 'missing_values_symbol': 'NaN', 'year_of_dataset_creation': 2014, 'last_updated': 'Fri Aug 18 2023', 'dataset_doi': '10.24432/C5K306', 'creators': ['S. Moro', 'P. Rita', 'P. Cortez'], 'intro_paper': {'ID': 277, 'type': 'NATIVE', 'title': 'A data-driven approach to predict the success of bank telemarketing', 'authors': 'Sérgio Moro, P. Cortez, P. Rita', 'venue': 'Decision Support Systems', 'year': 2014, 'journal': None, 'DOI': '10.1016/j.dss.2014.03.001', 'URL': 'https://www.semanticscholar.org/paper/cab86052882d126d43f72108c6cb41b295cc8a9e', 'sha': None, 'corpus': None, 'arxiv': None, 'mag': None, 'acl': None, 'pmid': None, 'pmcid': None}, 'additional_info': {'summary': \"The data is related with direct marketing campaigns of a Portuguese banking institution. The marketing campaigns were based on phone calls. Often, more than one contact to the same client was required, in order to access if the product (bank term deposit) would be ('yes') or not ('no') subscribed. \\n\\nThere are four datasets: \\n1) bank-additional-full.csv with all examples (41188) and 20 inputs, ordered by date (from May 2008 to November 2010), very close to the data analyzed in [Moro et al., 2014]\\n2) bank-additional.csv with 10% of the examples (4119), randomly selected from 1), and 20 inputs.\\n3) bank-full.csv with all examples and 17 inputs, ordered by date (older version of this dataset with less inputs). \\n4) bank.csv with 10% of the examples and 17 inputs, randomly selected from 3 (older version of this dataset with less inputs). \\nThe smallest datasets are provided to test more computationally demanding machine learning algorithms (e.g., SVM). \\n\\nThe classification goal is to predict if the client will subscribe (yes/no) a term deposit (variable y).\", 'purpose': None, 'funded_by': None, 'instances_represent': None, 'recommended_data_splits': None, 'sensitive_data': None, 'preprocessing_description': None, 'variable_info': 'Input variables:\\n   # bank client data:\\n   1 - age (numeric)\\n   2 - job : type of job (categorical: \"admin.\",\"unknown\",\"unemployed\",\"management\",\"housemaid\",\"entrepreneur\",\"student\",\\n                                       \"blue-collar\",\"self-employed\",\"retired\",\"technician\",\"services\") \\n   3 - marital : marital status (categorical: \"married\",\"divorced\",\"single\"; note: \"divorced\" means divorced or widowed)\\n   4 - education (categorical: \"unknown\",\"secondary\",\"primary\",\"tertiary\")\\n   5 - default: has credit in default? (binary: \"yes\",\"no\")\\n   6 - balance: average yearly balance, in euros (numeric) \\n   7 - housing: has housing loan? (binary: \"yes\",\"no\")\\n   8 - loan: has personal loan? (binary: \"yes\",\"no\")\\n   # related with the last contact of the current campaign:\\n   9 - contact: contact communication type (categorical: \"unknown\",\"telephone\",\"cellular\") \\n  10 - day: last contact day of the month (numeric)\\n  11 - month: last contact month of year (categorical: \"jan\", \"feb\", \"mar\", ..., \"nov\", \"dec\")\\n  12 - duration: last contact duration, in seconds (numeric)\\n   # other attributes:\\n  13 - campaign: number of contacts performed during this campaign and for this client (numeric, includes last contact)\\n  14 - pdays: number of days that passed by after the client was last contacted from a previous campaign (numeric, -1 means client was not previously contacted)\\n  15 - previous: number of contacts performed before this campaign and for this client (numeric)\\n  16 - poutcome: outcome of the previous marketing campaign (categorical: \"unknown\",\"other\",\"failure\",\"success\")\\n\\n  Output variable (desired target):\\n  17 - y - has the client subscribed a term deposit? (binary: \"yes\",\"no\")\\n', 'citation': None}}\n",
      "           name     role         type      demographic  \\\n",
      "0           age  Feature      Integer              Age   \n",
      "1           job  Feature  Categorical       Occupation   \n",
      "2       marital  Feature  Categorical   Marital Status   \n",
      "3     education  Feature  Categorical  Education Level   \n",
      "4       default  Feature       Binary             None   \n",
      "5       balance  Feature      Integer             None   \n",
      "6       housing  Feature       Binary             None   \n",
      "7          loan  Feature       Binary             None   \n",
      "8       contact  Feature  Categorical             None   \n",
      "9   day_of_week  Feature         Date             None   \n",
      "10        month  Feature         Date             None   \n",
      "11     duration  Feature      Integer             None   \n",
      "12     campaign  Feature      Integer             None   \n",
      "13        pdays  Feature      Integer             None   \n",
      "14     previous  Feature      Integer             None   \n",
      "15     poutcome  Feature  Categorical             None   \n",
      "16            y   Target       Binary             None   \n",
      "\n",
      "                                          description  units missing_values  \n",
      "0                                                None   None             no  \n",
      "1   type of job (categorical: 'admin.','blue-colla...   None             no  \n",
      "2   marital status (categorical: 'divorced','marri...   None             no  \n",
      "3   (categorical: 'basic.4y','basic.6y','basic.9y'...   None             no  \n",
      "4                              has credit in default?   None             no  \n",
      "5                              average yearly balance  euros             no  \n",
      "6                                   has housing loan?   None             no  \n",
      "7                                  has personal loan?   None             no  \n",
      "8   contact communication type (categorical: 'cell...   None            yes  \n",
      "9                        last contact day of the week   None             no  \n",
      "10  last contact month of year (categorical: 'jan'...   None             no  \n",
      "11   last contact duration, in seconds (numeric). ...   None             no  \n",
      "12  number of contacts performed during this campa...   None             no  \n",
      "13  number of days that passed by after the client...   None            yes  \n",
      "14  number of contacts performed before this campa...   None             no  \n",
      "15  outcome of the previous marketing campaign (ca...   None            yes  \n",
      "16          has the client subscribed a term deposit?   None             no  \n"
     ]
    }
   ],
   "source": [
    "from ucimlrepo import fetch_ucirepo \n",
    "  \n",
    "# fetch dataset \n",
    "bank_marketing = fetch_ucirepo(id=222) \n",
    "  \n",
    "# data (as pandas dataframes) \n",
    "X = bank_marketi ng.data.features\n",
    "y = bank_marketing.data.targets \n",
    "  \n",
    "# metadata \n",
    "print(bank_marketing.metadata) \n",
    "  \n",
    "# variable information \n",
    "print(bank_marketing.variables) \n"
   ]
  },
  {
   "cell_type": "code",
   "execution_count": 10,
   "metadata": {},
   "outputs": [
    {
     "name": "stdout",
     "output_type": "stream",
     "text": [
      "Número de registros con default='yes': 815\n",
      "       age           job   marital  education default  balance housing loan  \\\n",
      "7       42  entrepreneur  divorced   tertiary     yes        2     yes   no   \n",
      "79      55      services  divorced  secondary     yes        1     yes   no   \n",
      "338     51        admin.    single  secondary     yes       -2      no   no   \n",
      "419     33    technician   married  secondary     yes       72     yes   no   \n",
      "458     33   blue-collar    single  secondary     yes      -60      no   no   \n",
      "...    ...           ...       ...        ...     ...      ...     ...  ...   \n",
      "41562   71       retired  divorced   tertiary     yes     1236     yes   no   \n",
      "44099   28    management    single   tertiary     yes     1414     yes   no   \n",
      "44161   25    technician    single   tertiary     yes      160      no  yes   \n",
      "44302   31      services    single  secondary     yes     -248      no   no   \n",
      "44606   27       student    single    primary     yes       25      no   no   \n",
      "\n",
      "        contact  day_of_week month  duration  campaign  pdays  previous  \\\n",
      "7           NaN            5   may       380         1     -1         0   \n",
      "79          NaN            5   may       208         1     -1         0   \n",
      "338         NaN            5   may       402         3     -1         0   \n",
      "419         NaN            6   may       623         1     -1         0   \n",
      "458         NaN            6   may       243         1     -1         0   \n",
      "...         ...          ...   ...       ...       ...    ...       ...   \n",
      "41562  cellular           14   sep       335         4     -1         0   \n",
      "44099  cellular            8   jul       294         1    521         1   \n",
      "44161       NaN           13   jul       151         1     -1         0   \n",
      "44302       NaN           27   jul         5         1     -1         0   \n",
      "44606       NaN           28   aug         8         1     -1         0   \n",
      "\n",
      "      poutcome  \n",
      "7          NaN  \n",
      "79         NaN  \n",
      "338        NaN  \n",
      "419        NaN  \n",
      "458        NaN  \n",
      "...        ...  \n",
      "41562      NaN  \n",
      "44099  failure  \n",
      "44161      NaN  \n",
      "44302      NaN  \n",
      "44606      NaN  \n",
      "\n",
      "[815 rows x 16 columns]\n",
      "                    7          79         338         419          458    \\\n",
      "age                    42         55         51          33           33   \n",
      "job          entrepreneur   services     admin.  technician  blue-collar   \n",
      "marital          divorced   divorced     single     married       single   \n",
      "education        tertiary  secondary  secondary   secondary    secondary   \n",
      "default               yes        yes        yes         yes          yes   \n",
      "balance                 2          1         -2          72          -60   \n",
      "housing               yes        yes         no         yes           no   \n",
      "loan                   no         no         no          no           no   \n",
      "contact               NaN        NaN        NaN         NaN          NaN   \n",
      "day_of_week             5          5          5           6            6   \n",
      "month                 may        may        may         may          may   \n",
      "duration              380        208        402         623          243   \n",
      "campaign                1          1          3           1            1   \n",
      "pdays                  -1         -1         -1          -1           -1   \n",
      "previous                0          0          0           0            0   \n",
      "poutcome              NaN        NaN        NaN         NaN          NaN   \n",
      "\n",
      "                 508           562          572        596          636    \\\n",
      "age                 60            35           41         54           52   \n",
      "job            retired  entrepreneur  blue-collar   services  blue-collar   \n",
      "marital        married       married       single    married     divorced   \n",
      "education    secondary     secondary      primary  secondary      primary   \n",
      "default            yes           yes          yes        yes          yes   \n",
      "balance             15           204         -137          0         -183   \n",
      "housing             no           yes          yes        yes          yes   \n",
      "loan                no            no          yes         no           no   \n",
      "contact            NaN           NaN          NaN        NaN          NaN   \n",
      "day_of_week          6             6            6          6            6   \n",
      "month              may           may          may        may          may   \n",
      "duration            80           424          189        138          145   \n",
      "campaign             1             2            1          3            1   \n",
      "pdays               -1            -1           -1         -1           -1   \n",
      "previous             0             0            0          0            0   \n",
      "poutcome           NaN           NaN          NaN        NaN          NaN   \n",
      "\n",
      "             ...      39290      39347       39397      39674       40948  \\\n",
      "age          ...         32         24          59         58          45   \n",
      "job          ...     admin.   services  management    retired  unemployed   \n",
      "marital      ...   divorced     single    divorced    married    divorced   \n",
      "education    ...  secondary  secondary    tertiary    primary     primary   \n",
      "default      ...        yes        yes         yes        yes         yes   \n",
      "balance      ...          5      -1414           0       -235          11   \n",
      "housing      ...        yes        yes          no         no          no   \n",
      "loan         ...        yes        yes          no        yes          no   \n",
      "contact      ...   cellular   cellular    cellular  telephone    cellular   \n",
      "day_of_week  ...         18         18          22         27          13   \n",
      "month        ...        may        may         may        may         aug   \n",
      "duration     ...         82        171         239         93         489   \n",
      "campaign     ...          3          2           1          2           5   \n",
      "pdays        ...        363         -1          -1         -1          -1   \n",
      "previous     ...          2          0           0          0           0   \n",
      "poutcome     ...      other        NaN         NaN        NaN         NaN   \n",
      "\n",
      "                41562       44099       44161      44302    44606  \n",
      "age                71          28          25         31       27  \n",
      "job           retired  management  technician   services  student  \n",
      "marital      divorced      single      single     single   single  \n",
      "education    tertiary    tertiary    tertiary  secondary  primary  \n",
      "default           yes         yes         yes        yes      yes  \n",
      "balance          1236        1414         160       -248       25  \n",
      "housing           yes         yes          no         no       no  \n",
      "loan               no          no         yes         no       no  \n",
      "contact      cellular    cellular         NaN        NaN      NaN  \n",
      "day_of_week        14           8          13         27       28  \n",
      "month             sep         jul         jul        jul      aug  \n",
      "duration          335         294         151          5        8  \n",
      "campaign            4           1           1          1        1  \n",
      "pdays              -1         521          -1         -1       -1  \n",
      "previous            0           1           0          0        0  \n",
      "poutcome          NaN     failure         NaN        NaN      NaN  \n",
      "\n",
      "[16 rows x 815 columns]\n"
     ]
    }
   ],
   "source": [
    "# Filtrar filas donde la columna \"default\" es \"yes\"\n",
    "default_yes_rows = X[X['default'] == 'yes']\n",
    "\n",
    "# Mostrar el número de filas encontradas y la tabla filtrada\n",
    "print(f\"Número de registros con default='yes': {default_yes_rows.shape[0]}\")\n",
    "print(default_yes_rows)\n",
    "\n",
    "# Si deseas mostrarlo de manera vertical\n",
    "vertical_table = default_yes_rows.T  # Transponer la tabla\n",
    "print(vertical_table)\n"
   ]
  },
  {
   "cell_type": "code",
   "execution_count": 11,
   "metadata": {},
   "outputs": [],
   "source": [
    "default_yes_rows.to_csv(\"default_yes_rows.csv\", index=False)\n"
   ]
  },
  {
   "cell_type": "code",
   "execution_count": 12,
   "metadata": {},
   "outputs": [
    {
     "name": "stdout",
     "output_type": "stream",
     "text": [
      "Distribución de estados civiles:\n",
      "marital\n",
      "married     27214\n",
      "single      12790\n",
      "divorced     5207\n",
      "Name: count, dtype: int64\n"
     ]
    }
   ],
   "source": [
    "# Contar los valores únicos en la columna \"marital\"\n",
    "marital_counts = X['marital'].value_counts()\n",
    "\n",
    "# Mostrar los resultados\n",
    "print(\"Distribución de estados civiles:\")\n",
    "print(marital_counts)\n"
   ]
  },
  {
   "cell_type": "code",
   "execution_count": 13,
   "metadata": {},
   "outputs": [
    {
     "name": "stdout",
     "output_type": "stream",
     "text": [
      "Distribución de niveles educativos:\n",
      "education\n",
      "secondary    23202\n",
      "tertiary     13301\n",
      "primary       6851\n",
      "Name: count, dtype: int64\n"
     ]
    }
   ],
   "source": [
    "# Contar los valores únicos en la columna \"education\"\n",
    "education_counts = X['education'].value_counts()\n",
    "\n",
    "# Mostrar los resultados\n",
    "print(\"Distribución de niveles educativos:\")\n",
    "print(education_counts)\n"
   ]
  },
  {
   "cell_type": "code",
   "execution_count": 14,
   "metadata": {},
   "outputs": [
    {
     "name": "stdout",
     "output_type": "stream",
     "text": [
      "Los 5 trabajos más comunes:\n",
      "job\n",
      "blue-collar    9732\n",
      "management     9458\n",
      "technician     7597\n",
      "admin.         5171\n",
      "services       4154\n",
      "Name: count, dtype: int64\n"
     ]
    }
   ],
   "source": [
    "# Contar los valores únicos en la columna \"job\"\n",
    "job_counts = X['job'].value_counts()\n",
    "\n",
    "# Mostrar los 5 trabajos más comunes\n",
    "top_5_jobs = job_counts.head(5)\n",
    "print(\"Los 5 trabajos más comunes:\")\n",
    "print(top_5_jobs)\n"
   ]
  },
  {
   "cell_type": "code",
   "execution_count": 18,
   "metadata": {},
   "outputs": [
    {
     "data": {
      "image/png": "[encoded data removed]",
      "text/plain": [
       "<Figure size 640x480 with 1 Axes>"
      ]
     },
     "metadata": {},
     "output_type": "display_data"
    }
   ],
   "source": [
    "import matplotlib.pyplot as plt\n",
    "\n",
    "# Gráfica de los trabajos más comunes\n",
    "top_5_jobs.plot(kind='bar', title='Top 5 Trabajos Más Comunes')\n",
    "plt.xlabel('Tipo de Trabajo')\n",
    "plt.ylabel('Cantidad')\n",
    "plt.show()\n"
   ]
  },
  {
   "cell_type": "code",
   "execution_count": null,
   "metadata": {},
   "outputs": [],
   "source": []
  },
  {
   "cell_type": "code",
   "execution_count": null,
   "metadata": {},
   "outputs": [],
   "source": []
  }
 ],
 "metadata": {
  "kernelspec": {
   "display_name": "Python 3",
   "language": "python",
   "name": "python3"
  },
  "language_info": {
   "codemirror_mode": {
    "name": "ipython",
    "version": 3
   },
   "file_extension": ".py",
   "mimetype": "text/x-python",
   "name": "python",
   "nbconvert_exporter": "python",
   "pygments_lexer": "ipython3",
   "version": "3.12.7"
  }
 },
 "nbformat": 4,
 "nbformat_minor": 2
}
